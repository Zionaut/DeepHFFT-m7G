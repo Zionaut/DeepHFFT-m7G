{
 "cells": [
  {
   "cell_type": "code",
   "execution_count": 3,
   "metadata": {},
   "outputs": [
    {
     "name": "stdout",
     "output_type": "stream",
     "text": [
      "Array content (first two samples):\n",
      "Shape of data: (8778, 32, 32, 4)\n",
      "Data type: float64\n"
     ]
    }
   ],
   "source": [
    "###npy\n",
    "import numpy as np\n",
    "\n",
    "# 替换为你的 .npy 文件路径\n",
    "npy_file_path = '/public/home/zion/zion/BTCGNN-main/501bp/experiments/501bp/Hilbert/train_hilbert_features.npy'\n",
    "\n",
    "# 加载 .npy 文件\n",
    "data = np.load(npy_file_path)\n",
    "\n",
    "# 打印数组内容\n",
    "print(\"Array content (first two samples):\")\n",
    "\n",
    "# 设置打印选项为无限制，确保完整输出\n",
    "# np.set_printoptions(threshold=np.inf)\n",
    "\n",
    "# # 打印前两个样本的完整数值\n",
    "# print(data[:2])\n",
    "\n",
    "# 显示数据的形状和类型以辅助理解\n",
    "print(\"Shape of data:\", data.shape)\n",
    "print(\"Data type:\", data.dtype)\n",
    "\n"
   ]
  },
  {
   "cell_type": "code",
   "execution_count": 1,
   "metadata": {},
   "outputs": [
    {
     "ename": "FileNotFoundError",
     "evalue": "[Errno 2] No such file or directory: '/mnt/share/wzh/MRM-BERT-main/test_cksnap.npy'",
     "output_type": "error",
     "traceback": [
      "\u001b[0;31m---------------------------------------------------------------------------\u001b[0m",
      "\u001b[0;31mFileNotFoundError\u001b[0m                         Traceback (most recent call last)",
      "\u001b[0;32m<ipython-input-1-203354ff7e72>\u001b[0m in \u001b[0;36m<module>\u001b[0;34m\u001b[0m\n\u001b[1;32m      5\u001b[0m \u001b[0;34m\u001b[0m\u001b[0m\n\u001b[1;32m      6\u001b[0m \u001b[0;31m# 加载 .npy 文件\u001b[0m\u001b[0;34m\u001b[0m\u001b[0;34m\u001b[0m\u001b[0;34m\u001b[0m\u001b[0m\n\u001b[0;32m----> 7\u001b[0;31m \u001b[0mdata\u001b[0m \u001b[0;34m=\u001b[0m \u001b[0mnp\u001b[0m\u001b[0;34m.\u001b[0m\u001b[0mload\u001b[0m\u001b[0;34m(\u001b[0m\u001b[0mnpy_file_path\u001b[0m\u001b[0;34m)\u001b[0m\u001b[0;34m\u001b[0m\u001b[0;34m\u001b[0m\u001b[0m\n\u001b[0m\u001b[1;32m      8\u001b[0m \u001b[0;34m\u001b[0m\u001b[0m\n\u001b[1;32m      9\u001b[0m \u001b[0;31m# 打印数组内容\u001b[0m\u001b[0;34m\u001b[0m\u001b[0;34m\u001b[0m\u001b[0;34m\u001b[0m\u001b[0m\n",
      "\u001b[0;32m/opt/conda/lib/python3.6/site-packages/numpy/lib/npyio.py\u001b[0m in \u001b[0;36mload\u001b[0;34m(file, mmap_mode, allow_pickle, fix_imports, encoding)\u001b[0m\n\u001b[1;32m    368\u001b[0m     \u001b[0mown_fid\u001b[0m \u001b[0;34m=\u001b[0m \u001b[0;32mFalse\u001b[0m\u001b[0;34m\u001b[0m\u001b[0;34m\u001b[0m\u001b[0m\n\u001b[1;32m    369\u001b[0m     \u001b[0;32mif\u001b[0m \u001b[0misinstance\u001b[0m\u001b[0;34m(\u001b[0m\u001b[0mfile\u001b[0m\u001b[0;34m,\u001b[0m \u001b[0mbasestring\u001b[0m\u001b[0;34m)\u001b[0m\u001b[0;34m:\u001b[0m\u001b[0;34m\u001b[0m\u001b[0;34m\u001b[0m\u001b[0m\n\u001b[0;32m--> 370\u001b[0;31m         \u001b[0mfid\u001b[0m \u001b[0;34m=\u001b[0m \u001b[0mopen\u001b[0m\u001b[0;34m(\u001b[0m\u001b[0mfile\u001b[0m\u001b[0;34m,\u001b[0m \u001b[0;34m\"rb\"\u001b[0m\u001b[0;34m)\u001b[0m\u001b[0;34m\u001b[0m\u001b[0;34m\u001b[0m\u001b[0m\n\u001b[0m\u001b[1;32m    371\u001b[0m         \u001b[0mown_fid\u001b[0m \u001b[0;34m=\u001b[0m \u001b[0;32mTrue\u001b[0m\u001b[0;34m\u001b[0m\u001b[0;34m\u001b[0m\u001b[0m\n\u001b[1;32m    372\u001b[0m     \u001b[0;32melif\u001b[0m \u001b[0mis_pathlib_path\u001b[0m\u001b[0;34m(\u001b[0m\u001b[0mfile\u001b[0m\u001b[0;34m)\u001b[0m\u001b[0;34m:\u001b[0m\u001b[0;34m\u001b[0m\u001b[0;34m\u001b[0m\u001b[0m\n",
      "\u001b[0;31mFileNotFoundError\u001b[0m: [Errno 2] No such file or directory: '/mnt/share/wzh/MRM-BERT-main/test_cksnap.npy'"
     ]
    }
   ],
   "source": [
    "import numpy as np\n",
    "\n",
    "# 替换为你的 .npy 文件路径\n",
    "npy_file_path = '/mnt/share/wzh/MRM-BERT-main/test_cksnap.npy'\n",
    "\n",
    "# 加载 .npy 文件\n",
    "data = np.load(npy_file_path)\n",
    "\n",
    "# 打印数组内容\n",
    "print(\"Array content:\")\n",
    "# 显示所有数据（小心，大数组可能会占用大量内存）\n",
    "# np.set_printoptions(threshold=np.inf)  # 取消打印限制\n",
    "# print(data)\n",
    "\n",
    "print(data.shape)  # 查看数据的形状\n",
    "print(data.dtype)  # 查看数据类型\n",
    "print(data[:2])    # 查看前两组数据（按实际数据维度调整索引）\n"
   ]
  },
  {
   "cell_type": "code",
   "execution_count": 2,
   "metadata": {},
   "outputs": [
    {
     "name": "stdout",
     "output_type": "stream",
     "text": [
      "Data from /public/home/zion/zion/BTCGNN-main/501bp/experiments/501bp/Hilbert/test_hilbert_data.npy has been saved to /public/home/zion/zion/BTCGNN-main/501bp/experiments/501bp/Hilbert/test_hilbert_data.txt\n"
     ]
    }
   ],
   "source": [
    "#npy2txt\n",
    "\n",
    "\n",
    "import numpy as np\n",
    "\n",
    "# 替换为你的 .npy 文件路径\n",
    "npy_file_path = '/public/home/zion/zion/BTCGNN-main/501bp/experiments/501bp/Hilbert/test_hilbert_data.npy'\n",
    "\n",
    "# 替换为保存的 .txt 文件路径\n",
    "txt_file_path = '/public/home/zion/zion/BTCGNN-main/501bp/experiments/501bp/Hilbert/test_hilbert_data.txt'\n",
    "\n",
    "# 加载 .npy 文件\n",
    "data = np.load(npy_file_path)\n",
    "\n",
    "# 将数据保存为 .txt 文件\n",
    "# 如果数据是一维或二维数组，可以直接保存\n",
    "np.savetxt(txt_file_path, data, delimiter=',', fmt='%s')  # fmt='%s' 保证兼容字符串数据\n",
    "\n",
    "print(f\"Data from {npy_file_path} has been saved to {txt_file_path}\")"
   ]
  },
  {
   "cell_type": "code",
   "execution_count": 12,
   "metadata": {},
   "outputs": [
    {
     "name": "stdout",
     "output_type": "stream",
     "text": [
      "Arrays in the.npz file: ['images', 'labels']\n",
      "Shape of images: (2194, 32, 32, 4)\n",
      "Data type of images: float64\n",
      "Size of images: 71892992 bytes\n",
      "Shape of labels: (2194,)\n",
      "Data type of labels: int64\n",
      "Size of labels: 17552 bytes\n"
     ]
    },
    {
     "ename": "AttributeError",
     "evalue": "'NpzFile' object has no attribute 'values'",
     "output_type": "error",
     "traceback": [
      "\u001b[0;31m---------------------------------------------------------------------------\u001b[0m",
      "\u001b[0;31mAttributeError\u001b[0m                            Traceback (most recent call last)",
      "\u001b[0;32m<ipython-input-12-f5390ee5ee03>\u001b[0m in \u001b[0;36m<module>\u001b[0;34m\u001b[0m\n\u001b[1;32m     20\u001b[0m \u001b[0;34m\u001b[0m\u001b[0m\n\u001b[1;32m     21\u001b[0m \u001b[0;31m# 计算整个.npz文件的大小（近似值，未考虑压缩等因素）\u001b[0m\u001b[0;34m\u001b[0m\u001b[0;34m\u001b[0m\u001b[0;34m\u001b[0m\u001b[0m\n\u001b[0;32m---> 22\u001b[0;31m \u001b[0mtotal_size\u001b[0m \u001b[0;34m=\u001b[0m \u001b[0msum\u001b[0m\u001b[0;34m(\u001b[0m\u001b[0marray\u001b[0m\u001b[0;34m.\u001b[0m\u001b[0mnbytes\u001b[0m \u001b[0;32mfor\u001b[0m \u001b[0marray\u001b[0m \u001b[0;32min\u001b[0m \u001b[0mdata\u001b[0m\u001b[0;34m.\u001b[0m\u001b[0mvalues\u001b[0m\u001b[0;34m(\u001b[0m\u001b[0;34m)\u001b[0m\u001b[0;34m)\u001b[0m\u001b[0;34m\u001b[0m\u001b[0;34m\u001b[0m\u001b[0m\n\u001b[0m\u001b[1;32m     23\u001b[0m \u001b[0mprint\u001b[0m\u001b[0;34m(\u001b[0m\u001b[0;34m\"Total size of the.npz file:\"\u001b[0m\u001b[0;34m,\u001b[0m \u001b[0mtotal_size\u001b[0m\u001b[0;34m,\u001b[0m \u001b[0;34m\"bytes\"\u001b[0m\u001b[0;34m)\u001b[0m\u001b[0;34m\u001b[0m\u001b[0;34m\u001b[0m\u001b[0m\n",
      "\u001b[0;31mAttributeError\u001b[0m: 'NpzFile' object has no attribute 'values'"
     ]
    }
   ],
   "source": [
    "###npz\n",
    "\n",
    "import numpy as np\n",
    "\n",
    "# 替换为你的.npy文件路径\n",
    "npy_file_path = '/public/home/zion/zion/BTCGNN-main/501bp/experiments/501bp/Hilbert/test_data.npz'\n",
    "\n",
    "# 加载.npy文件\n",
    "data = np.load(npy_file_path)\n",
    "\n",
    "# 打印数据集中的数组名称\n",
    "print(\"Arrays in the.npz file:\", data.files)\n",
    "\n",
    "# 查看每个数组的形状和数据类型\n",
    "for array_name in data.files:\n",
    "    array = data[array_name]\n",
    "    print(f\"Shape of {array_name}: {array.shape}\")\n",
    "    print(f\"Data type of {array_name}: {array.dtype}\")\n",
    "    print(f\"Size of {array_name}: {array.nbytes} bytes\")\n",
    "\n",
    "# 计算整个.npz文件的大小（近似值，未考虑压缩等因素）\n",
    "total_size = sum(array.nbytes for array in data.values())\n",
    "print(\"Total size of the.npz file:\", total_size, \"bytes\")"
   ]
  },
  {
   "cell_type": "code",
   "execution_count": 2,
   "metadata": {},
   "outputs": [
    {
     "ename": "ModuleNotFoundError",
     "evalue": "No module named 'torch_geometric'",
     "output_type": "error",
     "traceback": [
      "\u001b[0;31m---------------------------------------------------------------------------\u001b[0m",
      "\u001b[0;31mModuleNotFoundError\u001b[0m                       Traceback (most recent call last)",
      "\u001b[0;32m<ipython-input-2-cc2b10ed1008>\u001b[0m in \u001b[0;36m<module>\u001b[0;34m\u001b[0m\n\u001b[1;32m      6\u001b[0m \u001b[0;31m# 加载 .pkl 文件\u001b[0m\u001b[0;34m\u001b[0m\u001b[0;34m\u001b[0m\u001b[0;34m\u001b[0m\u001b[0m\n\u001b[1;32m      7\u001b[0m \u001b[0;32mwith\u001b[0m \u001b[0mopen\u001b[0m\u001b[0;34m(\u001b[0m\u001b[0mfile_path\u001b[0m\u001b[0;34m,\u001b[0m \u001b[0;34m'rb'\u001b[0m\u001b[0;34m)\u001b[0m \u001b[0;32mas\u001b[0m \u001b[0mf\u001b[0m\u001b[0;34m:\u001b[0m\u001b[0;34m\u001b[0m\u001b[0;34m\u001b[0m\u001b[0m\n\u001b[0;32m----> 8\u001b[0;31m     \u001b[0mdata\u001b[0m \u001b[0;34m=\u001b[0m \u001b[0mpickle\u001b[0m\u001b[0;34m.\u001b[0m\u001b[0mload\u001b[0m\u001b[0;34m(\u001b[0m\u001b[0mf\u001b[0m\u001b[0;34m)\u001b[0m\u001b[0;34m\u001b[0m\u001b[0;34m\u001b[0m\u001b[0m\n\u001b[0m\u001b[1;32m      9\u001b[0m \u001b[0;34m\u001b[0m\u001b[0m\n\u001b[1;32m     10\u001b[0m \u001b[0;31m# 打印数据类型和结构\u001b[0m\u001b[0;34m\u001b[0m\u001b[0;34m\u001b[0m\u001b[0;34m\u001b[0m\u001b[0m\n",
      "\u001b[0;31mModuleNotFoundError\u001b[0m: No module named 'torch_geometric'"
     ]
    }
   ],
   "source": [
    "import pickle\n",
    "\n",
    "# 文件路径\n",
    "file_path = '/public/home/zion/zion/BTCGNN-main/501bp/experiments/501bp/K25/train_RNA7N_25'\n",
    "\n",
    "# 加载 .pkl 文件\n",
    "with open(file_path, 'rb') as f:\n",
    "    data = pickle.load(f)\n",
    "\n",
    "# 打印数据类型和结构\n",
    "print(type(data))\n",
    "print(data)\n"
   ]
  },
  {
   "cell_type": "code",
   "execution_count": null,
   "metadata": {},
   "outputs": [],
   "source": []
  }
 ],
 "metadata": {
  "kernelspec": {
   "display_name": "Python 3",
   "language": "python",
   "name": "python3"
  },
  "language_info": {
   "codemirror_mode": {
    "name": "ipython",
    "version": 3
   },
   "file_extension": ".py",
   "mimetype": "text/x-python",
   "name": "python",
   "nbconvert_exporter": "python",
   "pygments_lexer": "ipython3",
   "version": "3.6.8"
  }
 },
 "nbformat": 4,
 "nbformat_minor": 4
}
